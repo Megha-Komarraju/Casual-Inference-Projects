{
 "cells": [
  {
   "cell_type": "code",
   "execution_count": 7,
   "metadata": {},
   "outputs": [],
   "source": [
    "import numpy as np\n",
    "import pandas as pd\n",
    "import matplotlib.pyplot as plt\n",
    "from sklearn.ensemble import GradientBoostingRegressor\n",
    "from econml.metalearners import XLearner\n",
    "from sklearn.model_selection import train_test_split\n",
    "from sklearn.metrics import mean_squared_error\n",
    "from sklearn.linear_model import LogisticRegression\n"
   ]
  },
  {
   "cell_type": "code",
   "execution_count": 8,
   "metadata": {},
   "outputs": [
    {
     "name": "stdout",
     "output_type": "stream",
     "text": [
      "   Feature1  Feature2  Feature3  Treatment   Spending\n",
      "0  0.496714 -0.138264  0.647689        1.0  64.917157\n",
      "1  1.523030 -0.234153 -0.234137        1.0  72.726668\n",
      "2  1.579213  0.767435 -0.469474        0.0  63.129197\n",
      "3  0.542560 -0.463418 -0.465730        1.0  57.863289\n",
      "4  0.241962 -1.913280 -1.724918        0.0  46.755965\n"
     ]
    }
   ],
   "source": [
    "# Set random seed for reproducibility\n",
    "np.random.seed(42)\n",
    "\n",
    "# Number of samples\n",
    "n_samples = 1000\n",
    "\n",
    "# Features (customer attributes)\n",
    "X = np.random.normal(size=(n_samples, 3))  # 3 features\n",
    "\n",
    "# Treatment assignment (randomly assigned)\n",
    "T = np.random.binomial(1, 0.5, size=n_samples)  # 50% receive treatment\n",
    "\n",
    "# Base outcome (spending without discount)\n",
    "Y0 = 50 + 5 * X[:, 0] + 3 * X[:, 1] + np.random.normal(0, 5, size=n_samples)\n",
    "\n",
    "# Treatment effect (discount effect varies by customers)\n",
    "treatment_effect = 10 + 3 * X[:, 2]\n",
    "\n",
    "# Outcome (spending with discount)\n",
    "Y1 = Y0 + treatment_effect\n",
    "\n",
    "# Observed outcome based on treatment\n",
    "Y = Y1 * T + Y0 * (1 - T)\n",
    "\n",
    "# Convert to DataFrame\n",
    "df = pd.DataFrame(np.hstack((X, T.reshape(-1, 1), Y.reshape(-1, 1))),\n",
    "                  columns=['Feature1', 'Feature2', 'Feature3', 'Treatment', 'Spending'])\n",
    "\n",
    "print(df.head())\n"
   ]
  },
  {
   "cell_type": "code",
   "execution_count": 11,
   "metadata": {},
   "outputs": [],
   "source": [
    "# Split into train and test sets\n",
    "X_train, X_test, T_train, T_test, Y_train, Y_test = train_test_split(X, T, Y, test_size=0.2, random_state=42)\n",
    "\n",
    "# Define the base learners (Gradient Boosting Regressors)\n",
    "model_treated = GradientBoostingRegressor(n_estimators=100, learning_rate=0.1)\n",
    "model_control = GradientBoostingRegressor(n_estimators=100, learning_rate=0.1)\n",
    "\n",
    "propensity_model = LogisticRegression()\n",
    "\n",
    "# Define the X-Learner\n",
    "x_learner = XLearner(models=(model_treated, model_control),\n",
    "                      propensity_model=propensity_model)  # We assume equal treatment assignment probability\n",
    "\n",
    "# Fit the X-Learner to estimate treatment effects\n",
    "x_learner.fit(Y_train, T_train, X=X_train)\n",
    "\n",
    "# Estimate the individual treatment effects (ITEs)\n",
    "treatment_effects = x_learner.effect(X_test)\n",
    "\n"
   ]
  },
  {
   "cell_type": "code",
   "execution_count": 12,
   "metadata": {},
   "outputs": [
    {
     "data": {
      "image/png": "[encoded data removed]",
      "text/plain": [
       "<Figure size 800x500 with 1 Axes>"
      ]
     },
     "metadata": {},
     "output_type": "display_data"
    },
    {
     "name": "stdout",
     "output_type": "stream",
     "text": [
      "Example 1: Estimated Treatment Effect = 8.88\n",
      "Example 2: Estimated Treatment Effect = 9.50\n",
      "Example 3: Estimated Treatment Effect = 14.58\n",
      "Example 4: Estimated Treatment Effect = 5.70\n",
      "Example 5: Estimated Treatment Effect = 9.72\n"
     ]
    }
   ],
   "source": [
    "# Plot estimated treatment effects\n",
    "plt.figure(figsize=(8, 5))\n",
    "plt.hist(treatment_effects, bins=30, alpha=0.7, color='blue', edgecolor='black')\n",
    "plt.xlabel(\"Estimated Treatment Effect\")\n",
    "plt.ylabel(\"Frequency\")\n",
    "plt.title(\"Distribution of Estimated Treatment Effects (X-Learner)\")\n",
    "plt.show()\n",
    "\n",
    "# Print some example estimated treatment effects\n",
    "for i in range(5):\n",
    "    print(f\"Example {i+1}: Estimated Treatment Effect = {treatment_effects[i]:.2f}\")\n"
   ]
  }
 ],
 "metadata": {
  "kernelspec": {
   "display_name": "Python 3",
   "language": "python",
   "name": "python3"
  },
  "language_info": {
   "codemirror_mode": {
    "name": "ipython",
    "version": 3
   },
   "file_extension": ".py",
   "mimetype": "text/x-python",
   "name": "python",
   "nbconvert_exporter": "python",
   "pygments_lexer": "ipython3",
   "version": "3.11.8"
  }
 },
 "nbformat": 4,
 "nbformat_minor": 2
}
